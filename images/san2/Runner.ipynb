{
 "cells": [
  {
   "cell_type": "code",
   "execution_count": 8,
   "metadata": {},
   "outputs": [],
   "source": [
    "import pytesseract\n",
    "from pytesseract import Output\n",
    "import cv2\n",
    "import editdistance\n",
    "import numpy as np"
   ]
  },
  {
   "cell_type": "code",
   "execution_count": 9,
   "metadata": {},
   "outputs": [],
   "source": [
    "def calculate_wer(reference, hypothesis):\n",
    "    ref_words = reference.split()\n",
    "    hyp_words = hypothesis.split()\n",
    "    distance = editdistance.eval(ref_words, hyp_words)\n",
    "    return distance / len(ref_words)\n",
    "\n",
    "def calculate_cer(reference, hypothesis):\n",
    "    distance = editdistance.eval(reference, hypothesis)\n",
    "    return distance / len(reference)\n"
   ]
  },
  {
   "cell_type": "code",
   "execution_count": 10,
   "metadata": {},
   "outputs": [],
   "source": [
    "def ocr_with_psm(image_path, psm):\n",
    "    config = f'--psm {psm} -l san' \n",
    "    image = cv2.imread(image_path)  \n",
    "    ocr_result = pytesseract.image_to_string(image, lang='san', config=config) \n",
    "    return ocr_result\n"
   ]
  },
  {
   "cell_type": "code",
   "execution_count": 11,
   "metadata": {},
   "outputs": [],
   "source": [
    "def evaluate_psms(image_path, ground_truth):\n",
    "    psm_results = {}\n",
    "\n",
    "    for psm in range(0, 14): \n",
    "        try:\n",
    "            ocr_result = ocr_with_psm(image_path, psm)\n",
    "            wer = calculate_wer(ground_truth, ocr_result)\n",
    "            cer = calculate_cer(ground_truth, ocr_result)\n",
    "            psm_results[psm] = {'OCR_Result': ocr_result, 'WER': wer, 'CER': cer}\n",
    "        except:\n",
    "            psm_results[psm] = 'error'\n",
    "    \n",
    "    return psm_results\n"
   ]
  },
  {
   "cell_type": "code",
   "execution_count": 12,
   "metadata": {},
   "outputs": [
    {
     "name": "stdout",
     "output_type": "stream",
     "text": [
      "1) निःपक्षपातितां सूचयितुं नित्यं शुभ्रध्वजः प्रचालनीयः । पूर्वगृहं विंता कस्यापि \n",
      "नैकायाः तथैव नौकाकर्मचारिणां साहाय्यं कर्तव्यम् कदापि यदि नौका आपद्रस्ता \n",
      "भवति तर्हि कर्मचारिभिः धैर्येण स्वसंरक्षणं करणीयम् ।\n"
     ]
    }
   ],
   "source": [
    "def ground_truth_reader(ground_truth_path):\n",
    "    with open(ground_truth_path, 'r+', encoding='utf-8') as f:\n",
    "        gt = f.read()\n",
    "    return gt\n",
    "\n",
    "print(ground_truth_reader('t1_gt'))"
   ]
  },
  {
   "cell_type": "code",
   "execution_count": 13,
   "metadata": {},
   "outputs": [],
   "source": [
    "image_path = \"t1.jpeg\" \n",
    "gt_path = 't1_gt'\n",
    "ground_truth = ground_truth_reader(gt_path)\n",
    "results = evaluate_psms(image_path, ground_truth)\n",
    "\n",
    "# for psm, metrics in results.items():\n",
    "#     print(f\"PSM: {psm}\")\n",
    "#     print(f\"WER: {metrics['WER']:.4f}, CER: {metrics['CER']:.4f}\")\n",
    "#     print(f\"OCR Output: {metrics['OCR_Result']}\\n\")\n"
   ]
  },
  {
   "cell_type": "code",
   "execution_count": 14,
   "metadata": {},
   "outputs": [
    {
     "data": {
      "text/plain": [
       "{0: 'error',\n",
       " 1: {'OCR_Result': '1) निःपक्षपातितां सूचयितुं नित्यं शुभ्वजः प्रचालनीयः। पूर्वगृहं विता कस्यापि\\nनैकायाः तथैव नौकाकर्मचारिणां साहाय्यं कर्तव्यम्\\u200c कदापि यदि नौका आपद्रस्ता\\nभवति तर्हि कर्मचारिभिः धैर्येण स्वसंरक्षणं करणीयम्\\u200c ।\\n\\x0c',\n",
       "  'WER': 0.23076923076923078,\n",
       "  'CER': 0.05263157894736842},\n",
       " 2: 'error',\n",
       " 3: {'OCR_Result': '1) निःपक्षपातितां सूचयितुं नित्यं शुभ्वजः प्रचालनीयः। पूर्वगृहं विता कस्यापि\\nनैकायाः तथैव नौकाकर्मचारिणां साहाय्यं कर्तव्यम्\\u200c कदापि यदि नौका आपद्रस्ता\\nभवति तर्हि कर्मचारिभिः धैर्येण स्वसंरक्षणं करणीयम्\\u200c ।\\n\\x0c',\n",
       "  'WER': 0.23076923076923078,\n",
       "  'CER': 0.05263157894736842},\n",
       " 4: {'OCR_Result': '1) निःपक्षपातितां सूचयितुं नित्यं शुभ्वजः प्रचालनीयः। पूर्वगृहं विता कस्यापि\\nनैकायाः तथैव नौकाकर्मचारिणां साहाय्यं कर्तव्यम्\\u200c कदापि यदि नौका आपद्रस्ता\\nभवति तर्हि कर्मचारिभिः धैर्येण स्वसंरक्षणं करणीयम्\\u200c ।\\n\\x0c',\n",
       "  'WER': 0.23076923076923078,\n",
       "  'CER': 0.05263157894736842},\n",
       " 5: {'OCR_Result': 'छ ©\\n=\\n४ €\\n~ (ट\\n१ & ~\\nहि 3\\n५ 8\\n& 6 6\\n6 6\\nठ, छ\\nह @\\n£\\n= 5\\n< 5 £\\n£ &\\n= हट\\n[ऋ\\n2\\n& <\\n| आ\\n9.\\n\\x0c',\n",
       "  'WER': 1.5384615384615385,\n",
       "  'CER': 0.8899521531100478},\n",
       " 6: {'OCR_Result': '1) निःपक्षपातितां सूचयितुं नित्यं शुभ्वजः प्रचालनीयः। पूर्वगृहं विता कस्यापि\\nनैकायाः तथैव नौकाकर्मचारिणां साहाय्यं कर्तव्यम्\\u200c कदापि यदि नौका आपद्रस्ता\\nभवति तर्हि कर्मचारिभिः धैर्येण स्वसंरक्षणं करणीयम्\\u200c ।\\n\\x0c',\n",
       "  'WER': 0.23076923076923078,\n",
       "  'CER': 0.05263157894736842},\n",
       " 7: {'OCR_Result': '\\x0c', 'WER': 1.0, 'CER': 1.0},\n",
       " 8: {'OCR_Result': 'प~\\n\\x0c', 'WER': 1.0, 'CER': 0.9904306220095693},\n",
       " 9: {'OCR_Result': 'प -\\n\\x0c', 'WER': 1.0, 'CER': 0.9856459330143541},\n",
       " 10: {'OCR_Result': '~\\n\\x0c', 'WER': 1.0, 'CER': 0.9952153110047847},\n",
       " 11: {'OCR_Result': '1)\\n\\nनिःपक्षपातितां सूचयितुं नित्यं शुभरध्वजः प्रचालनीयः। पूर्वगृहं विता कस्यापि\\n\\nनैकायाः तथैव नौकाकर्मचारिणां साहाय्यं कर्तव्यम्\\u200c कदापि यदि नौका आपद्रस्ता\\n\\nभवति तर्हि कर्मचारिभिः धैर्येण स्वसंरक्षणं करणीयम्\\u200c ।\\n\\x0c',\n",
       "  'WER': 0.23076923076923078,\n",
       "  'CER': 0.05263157894736842},\n",
       " 12: {'OCR_Result': '1)\\n\\nनिःपक्षपातितां सूचयितुं नित्यं शुभरध्वजः प्रचालनीयः। पूर्वगृहं विता कस्यापि\\n\\nनैकायाः तथैव नौकाकर्मचारिणां साहाय्यं कर्तव्यम्\\u200c कदापि यदि नौका आपद्रस्ता\\n\\nभवति तर्हि कर्मचारिभिः धैर्येण स्वसंरक्षणं करणीयम्\\u200c ।\\n\\x0c',\n",
       "  'WER': 0.23076923076923078,\n",
       "  'CER': 0.05263157894736842},\n",
       " 13: {'OCR_Result': 'प~\\n\\x0c', 'WER': 1.0, 'CER': 0.9904306220095693}}"
      ]
     },
     "execution_count": 14,
     "metadata": {},
     "output_type": "execute_result"
    }
   ],
   "source": [
    "results"
   ]
  },
  {
   "cell_type": "code",
   "execution_count": null,
   "metadata": {},
   "outputs": [],
   "source": []
  }
 ],
 "metadata": {
  "kernelspec": {
   "display_name": "Python 3",
   "language": "python",
   "name": "python3"
  },
  "language_info": {
   "codemirror_mode": {
    "name": "ipython",
    "version": 3
   },
   "file_extension": ".py",
   "mimetype": "text/x-python",
   "name": "python",
   "nbconvert_exporter": "python",
   "pygments_lexer": "ipython3",
   "version": "3.10.12"
  }
 },
 "nbformat": 4,
 "nbformat_minor": 2
}
