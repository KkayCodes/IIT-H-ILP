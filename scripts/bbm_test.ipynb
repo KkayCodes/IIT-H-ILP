{
 "cells": [
  {
   "cell_type": "code",
   "execution_count": 11,
   "metadata": {},
   "outputs": [],
   "source": [
    "import pytesseract\n",
    "from PIL import Image\n",
    "import cv2 as cv\n"
   ]
  },
  {
   "cell_type": "code",
   "execution_count": 12,
   "metadata": {},
   "outputs": [],
   "source": [
    "def preProcess(imagePath):\n",
    "    image = cv.imread(imagePath)\n",
    "    if image is None:\n",
    "        raise ValueError(f\"Error: Image at path {imagePath} could not be loaded.\")\n",
    "    \n",
    "    gray = cv.cvtColor(image, cv.COLOR_BGR2GRAY)\n",
    "    _, binary = cv.threshold(gray, 127, 255, cv.THRESH_BINARY | cv.THRESH_OTSU)\n",
    "    \n",
    "    return binary, image\n"
   ]
  },
  {
   "cell_type": "code",
   "execution_count": 13,
   "metadata": {},
   "outputs": [],
   "source": [
    "def extractText(imagePath):\n",
    "    binary, original_image = preProcess(imagePath)\n",
    "    contours, _ = cv.findContours(binary, cv.RETR_EXTERNAL, cv.CHAIN_APPROX_SIMPLE)\n",
    "    extracted_text = []\n",
    "\n",
    "    for contour in contours:\n",
    "        x, y, w, h = cv.boundingRect(contour)\n",
    "        if w > 30 and h > 30:  \n",
    "            roi = original_image[y:y + h, x:x + w]\n",
    "            pil_image = Image.fromarray(cv.cvtColor(roi, cv.COLOR_BGR2RGB))\n",
    "            custom_config = r'--psm 3'\n",
    "            text = pytesseract.image_to_string(pil_image, lang='san', config=custom_config)\n",
    "            extracted_text.append((text.strip(), (x, y, w, h)))\n",
    "            cv.rectangle(original_image, (x, y), (x + w, y + h), (0, 255, 0), 2)  \n",
    "\n",
    "    cv.imwrite('output_with_boxes.png', original_image)  \n",
    "    return extracted_text\n"
   ]
  },
  {
   "cell_type": "code",
   "execution_count": 14,
   "metadata": {},
   "outputs": [],
   "source": [
    "def main(imagePath, outputFileName):\n",
    "    try:\n",
    "        extracted_text = extractText(imagePath)\n",
    "    except ValueError as e:\n",
    "        print(e)\n",
    "        return\n",
    "    \n",
    "    try:\n",
    "        with open(outputFileName, 'w') as file:\n",
    "            for text, bbox in extracted_text:\n",
    "                file.write(f\"{text}\")\n",
    "        print(f\"Text successfully written to {outputFileName}.\")\n",
    "    except IOError as e:\n",
    "        print(f\"Error writing to file: {e}\")"
   ]
  },
  {
   "cell_type": "code",
   "execution_count": 15,
   "metadata": {},
   "outputs": [
    {
     "name": "stdout",
     "output_type": "stream",
     "text": [
      "Text successfully written to /home/kkay/IIT-H/OCR/ILP-OCR/test/complex/c4_bb.txt.\n"
     ]
    }
   ],
   "source": [
    "if __name__ == \"__main__\":\n",
    "    main('/home/kkay/IIT-H/OCR/ILP-OCR/test/complex/c4.png', '/home/kkay/IIT-H/OCR/ILP-OCR/test/complex/c4_bb.txt')  \n"
   ]
  }
 ],
 "metadata": {
  "kernelspec": {
   "display_name": "venv",
   "language": "python",
   "name": "python3"
  },
  "language_info": {
   "codemirror_mode": {
    "name": "ipython",
    "version": 3
   },
   "file_extension": ".py",
   "mimetype": "text/x-python",
   "name": "python",
   "nbconvert_exporter": "python",
   "pygments_lexer": "ipython3",
   "version": "3.10.12"
  }
 },
 "nbformat": 4,
 "nbformat_minor": 2
}
