{
 "cells": [
  {
   "cell_type": "code",
   "execution_count": 45,
   "metadata": {},
   "outputs": [],
   "source": [
    "import cv2\n",
    "import pytesseract\n",
    "from pytesseract import Output\n"
   ]
  },
  {
   "cell_type": "code",
   "execution_count": 46,
   "metadata": {},
   "outputs": [],
   "source": [
    "image_path = '/home/kkay/IIT-H/OCR/ILP-OCR/images/san/simple.jpg'\n",
    "image = cv2.imread(image_path)\n"
   ]
  },
  {
   "cell_type": "code",
   "execution_count": 47,
   "metadata": {},
   "outputs": [],
   "source": [
    "gray_image = cv2.cvtColor(image, cv2.COLOR_BGR2GRAY)"
   ]
  },
  {
   "cell_type": "code",
   "execution_count": 48,
   "metadata": {},
   "outputs": [],
   "source": [
    "_, binary_image = cv2.threshold(gray_image, 127, 255, cv2.THRESH_BINARY_INV)"
   ]
  },
  {
   "cell_type": "code",
   "execution_count": 49,
   "metadata": {},
   "outputs": [],
   "source": [
    "contours, _ = cv2.findContours(binary_image, cv2.RETR_EXTERNAL, cv2.CHAIN_APPROX_SIMPLE)"
   ]
  },
  {
   "cell_type": "code",
   "execution_count": 50,
   "metadata": {},
   "outputs": [],
   "source": [
    "extracted_text = []\n",
    "\n",
    "for contour in contours:\n",
    "    x, y, w, h = cv2.boundingRect(contour)\n",
    "    if w > 30 and h > 30:\n",
    "        cv2.rectangle(image, (x, y), (x + w, y + h), (0, 255, 0), 2)\n",
    "        roi = image[y:y + h, x:x + w] \n",
    "        custom_config = r'--psm 6'\n",
    "        text = pytesseract.image_to_string(roi, lang='san', config=custom_config)  \n",
    "        extracted_text.append(text)\n"
   ]
  },
  {
   "cell_type": "code",
   "execution_count": 51,
   "metadata": {},
   "outputs": [
    {
     "data": {
      "text/plain": [
       "True"
      ]
     },
     "execution_count": 51,
     "metadata": {},
     "output_type": "execute_result"
    }
   ],
   "source": [
    "output_path = 'sanskbbb.png'\n",
    "cv2.imwrite(output_path, image)\n"
   ]
  },
  {
   "cell_type": "code",
   "execution_count": 52,
   "metadata": {},
   "outputs": [
    {
     "name": "stdout",
     "output_type": "stream",
     "text": [
      "Text from box 1: ५।।०॥ 61161\n",
      "\f\n",
      "Text from box 2: (४\n",
      "\f\n",
      "Text from box 3: ५]\n",
      "\f\n",
      "Text from box 4: प्राय\n",
      "\f\n",
      "Text from box 5: ग्र\n",
      "\f\n",
      "Text from box 6: [: [1411\n",
      "\f\n",
      "Text from box 7: \f\n",
      "Text from box 8: वतां\n",
      "\f\n",
      "Text from box 9: 91०\n",
      "\f\n",
      "Text from box 10: [|\n",
      "\f\n",
      "Text from box 11: \f\n",
      "Text from box 12: \f\n",
      "Text from box 13: तत\n",
      "\f\n",
      "Text from box 14: ९९१]\n",
      "&.\n",
      "\f\n"
     ]
    }
   ],
   "source": [
    "for idx, text in enumerate(extracted_text):\n",
    "    print(f\"Text from box {idx + 1}: {text}\")\n"
   ]
  }
 ],
 "metadata": {
  "kernelspec": {
   "display_name": "venv",
   "language": "python",
   "name": "python3"
  },
  "language_info": {
   "codemirror_mode": {
    "name": "ipython",
    "version": 3
   },
   "file_extension": ".py",
   "mimetype": "text/x-python",
   "name": "python",
   "nbconvert_exporter": "python",
   "pygments_lexer": "ipython3",
   "version": "3.10.12"
  }
 },
 "nbformat": 4,
 "nbformat_minor": 2
}
