{
 "cells": [
  {
   "cell_type": "code",
   "execution_count": 1,
   "metadata": {},
   "outputs": [],
   "source": [
    "import cv2\n",
    "import pytesseract\n",
    "from pytesseract import Output\n"
   ]
  },
  {
   "cell_type": "code",
   "execution_count": 2,
   "metadata": {},
   "outputs": [],
   "source": [
    "image_path = '/home/kkay/IIT-H/OCR/ILP-OCR/images/san/simple.jpg'\n",
    "image = cv2.imread(image_path)\n"
   ]
  },
  {
   "cell_type": "code",
   "execution_count": 3,
   "metadata": {},
   "outputs": [],
   "source": [
    "gray_image = cv2.cvtColor(image, cv2.COLOR_BGR2GRAY)"
   ]
  },
  {
   "cell_type": "code",
   "execution_count": 4,
   "metadata": {},
   "outputs": [],
   "source": [
    "_, binary_image = cv2.threshold(gray_image, 127, 255, cv2.THRESH_BINARY_INV)"
   ]
  },
  {
   "cell_type": "code",
   "execution_count": 5,
   "metadata": {},
   "outputs": [],
   "source": [
    "contours, _ = cv2.findContours(binary_image, cv2.RETR_EXTERNAL, cv2.CHAIN_APPROX_SIMPLE)"
   ]
  },
  {
   "cell_type": "code",
   "execution_count": 10,
   "metadata": {},
   "outputs": [],
   "source": [
    "extracted_text = []\n",
    "\n",
    "for contour in contours:\n",
    "    x, y, w, h = cv2.boundingRect(contour)\n",
    "    if w > 30 and h > 30:\n",
    "        cv2.rectangle(image, (x, y), (x + w, y + h), (0, 255, 0), 2)\n",
    "        roi = image[y:y + h, x:x + w] \n",
    "        custom_config = r'--psm 6'\n",
    "        text = pytesseract.image_to_string(roi, lang='san', config=custom_config)  \n",
    "        extracted_text.append(text)\n"
   ]
  },
  {
   "cell_type": "code",
   "execution_count": 11,
   "metadata": {},
   "outputs": [
    {
     "data": {
      "text/plain": [
       "True"
      ]
     },
     "execution_count": 11,
     "metadata": {},
     "output_type": "execute_result"
    }
   ],
   "source": [
    "output_path = 'sanskbbb.png'\n",
    "cv2.imwrite(output_path, image)\n"
   ]
  },
  {
   "cell_type": "code",
   "execution_count": 12,
   "metadata": {},
   "outputs": [
    {
     "name": "stdout",
     "output_type": "stream",
     "text": [
      "Text from box 1: च\n",
      "\f\n",
      "Text from box 2: \"क ष्व 1\n",
      "\"9 + काका +\n",
      "\f\n",
      "Text from box 3: &\n",
      "\f\n",
      "Text from box 4: &\n",
      "\f\n",
      "Text from box 5: (9\n",
      "\f\n",
      "Text from box 6: (२\n",
      "\f\n",
      "Text from box 7: भः\n",
      "\f\n",
      "Text from box 8: (अ\n",
      "\f\n",
      "Text from box 9: वि (1\n",
      "श\n",
      "9\n",
      "ध\n",
      "ध\n",
      "\f\n",
      "Text from box 10: \f\n",
      "Text from box 11: \f\n",
      "Text from box 12: (भगे\n",
      "\f\n",
      "Text from box 13: (¢\n",
      "\f\n",
      "Text from box 14: रुगे\n",
      "\f\n",
      "Text from box 15: ९५!\n",
      "\f\n",
      "Text from box 16: पतापत\n",
      "\f\n",
      "Text from box 17: ९।२ {1।वन्‌,\n",
      "\f\n",
      "Text from box 18: (--¬\n",
      "\f\n",
      "Text from box 19: 1२\n",
      "\f\n",
      "Text from box 20: य\n",
      "\f\n",
      "Text from box 21: मै\n",
      "\f\n",
      "Text from box 22: कद.\n",
      "\f\n",
      "Text from box 23: ह _\n",
      "\f\n",
      "Text from box 24: 6]\n",
      "\f\n",
      "Text from box 25: |\n",
      "\f\n",
      "Text from box 26: |\n",
      "\f\n",
      "Text from box 27: (^ 9\n",
      "क ^\n",
      "\f\n",
      "Text from box 28: (~\n",
      "\f\n",
      "Text from box 29: )\n",
      "\f\n",
      "Text from box 30: \f\n",
      "Text from box 31: \f\n",
      "Text from box 32: परेत्राणाय\n",
      "\f\n",
      "Text from box 33: &\n",
      "\f\n",
      "Text from box 34: ।\n",
      "\f\n",
      "Text from box 35: \f\n",
      "Text from box 36: ।\n",
      "\f\n",
      "Text from box 37: > शल्मान दः\n",
      "() &\n",
      "\f\n",
      "Text from box 38: 4)\n",
      "\f\n",
      "Text from box 39: ||\n",
      "|\n",
      "\f\n",
      "Text from box 40: रजभि\n",
      "\f\n",
      "Text from box 41: च,\n",
      "\f\n",
      "Text from box 42: च\n",
      "१\n",
      "1\n",
      "१\n",
      "१\n",
      "\f\n",
      "Text from box 43: |\n",
      "\f\n",
      "Text from box 44: († }\n",
      "\f\n",
      "Text from box 45: 0\n",
      "\f\n",
      "Text from box 46: (-)1\n",
      "\f\n",
      "Text from box 47: <\n",
      "\f\n",
      "Text from box 48: ॥\n",
      "\f\n",
      "Text from box 49: (=+\n",
      "\f\n",
      "Text from box 50: 10078\n",
      "\f\n",
      "Text from box 51: ग्रे\n",
      "\f\n",
      "Text from box 52: -अधरमस्तं\n",
      "\f\n",
      "Text from box 53: श्त\n",
      "कि\n",
      "\f\n",
      "Text from box 54: )\n",
      "\f\n",
      "Text from box 55: ?\\॥<८। ,\n",
      "\f\n",
      "Text from box 56: ननः\n",
      "\f\n",
      "Text from box 57: श्रधाति\n",
      "\f\n",
      "Text from box 58: +^\n",
      "@.\n",
      "\f\n",
      "Text from box 59: (५\n",
      "\f\n",
      "Text from box 60: १\n",
      "\f\n",
      "Text from box 61: \"ठे\n",
      "\f\n",
      "Text from box 62: धन\n",
      "\f\n",
      "Text from box 63: \f\n"
     ]
    }
   ],
   "source": [
    "for idx, text in enumerate(extracted_text):\n",
    "    print(f\"Text from box {idx + 1}: {text}\")\n"
   ]
  }
 ],
 "metadata": {
  "kernelspec": {
   "display_name": "venv",
   "language": "python",
   "name": "python3"
  },
  "language_info": {
   "codemirror_mode": {
    "name": "ipython",
    "version": 3
   },
   "file_extension": ".py",
   "mimetype": "text/x-python",
   "name": "python",
   "nbconvert_exporter": "python",
   "pygments_lexer": "ipython3",
   "version": "3.10.12"
  }
 },
 "nbformat": 4,
 "nbformat_minor": 2
}
