{
 "cells": [
  {
   "cell_type": "code",
   "execution_count": 1,
   "metadata": {},
   "outputs": [],
   "source": [
    "import cv2\n",
    "import numpy as np\n",
    "import pytesseract\n",
    "from matplotlib import pyplot as plt\n",
    "from skimage.filters import threshold_otsu\n",
    "from scipy.ndimage import interpolation as inter\n",
    "from pytesseract import Output\n"
   ]
  },
  {
   "cell_type": "code",
   "execution_count": 2,
   "metadata": {},
   "outputs": [],
   "source": [
    "#loading and displayng image\n",
    "image = cv2.imread('/home/kkay/IIT-H/OCR/ILP-OCR/images/san/sansk.jpg', cv2.IMREAD_GRAYSCALE)\n"
   ]
  },
  {
   "cell_type": "code",
   "execution_count": 3,
   "metadata": {},
   "outputs": [],
   "source": [
    "#denoising\n",
    "if image is None:\n",
    "    print(\"Error: Image not loaded correctly.\")\n",
    "else:\n",
    "    denoised_image = cv2.medianBlur(image, 3)\n"
   ]
  },
  {
   "cell_type": "code",
   "execution_count": 4,
   "metadata": {},
   "outputs": [],
   "source": [
    "#binarisation\n",
    "_, binary_image = cv2.threshold(image, 127, 255, cv2.THRESH_BINARY_INV)\n"
   ]
  },
  {
   "cell_type": "code",
   "execution_count": 5,
   "metadata": {},
   "outputs": [],
   "source": [
    "#skew correction\n",
    "def deskew(image):\n",
    "    thresh = cv2.threshold(image, 0, 255, cv2.THRESH_BINARY_INV + cv2.THRESH_OTSU)[1]\n",
    "    coords = np.column_stack(np.where(thresh > 0))\n",
    "    angle = cv2.minAreaRect(coords)[-1]\n",
    "    if angle < -45:\n",
    "        angle = -(90 + angle)\n",
    "    else:\n",
    "        angle = -angle\n",
    "    \n",
    "    (h, w) = image.shape[:2]\n",
    "    center = (w // 2, h // 2)\n",
    "    M = cv2.getRotationMatrix2D(center, angle, 1.0)\n",
    "    rotated = cv2.warpAffine(image, M, (w, h), flags=cv2.INTER_CUBIC, borderMode=cv2.BORDER_REPLICATE)\n",
    "    return rotated\n",
    "\n",
    "deskewed_image = deskew(binary_image)\n"
   ]
  },
  {
   "cell_type": "code",
   "execution_count": 6,
   "metadata": {},
   "outputs": [],
   "source": [
    "#image resizing\n",
    "resized_image = cv2.resize(deskewed_image, (1024, 1024), interpolation=cv2.INTER_AREA)"
   ]
  },
  {
   "cell_type": "code",
   "execution_count": 7,
   "metadata": {},
   "outputs": [],
   "source": [
    "#segmentation\n",
    "contours, _ = cv2.findContours(255 - resized_image, cv2.RETR_EXTERNAL, cv2.CHAIN_APPROX_SIMPLE)\n",
    "\n",
    "segmented_image = cv2.cvtColor(resized_image, cv2.COLOR_GRAY2BGR)\n",
    "for contour in contours:\n",
    "    x, y, w, h = cv2.boundingRect(contour)\n",
    "    cv2.rectangle(segmented_image, (x, y), (x + w, y + h), (0, 255, 0), 2)\n"
   ]
  },
  {
   "cell_type": "code",
   "execution_count": 8,
   "metadata": {},
   "outputs": [
    {
     "name": "stdout",
     "output_type": "stream",
     "text": [
      "Image saved with bounding boxes as sanskbbb.png\n"
     ]
    }
   ],
   "source": [
    "#boundary box maipulation\n",
    "\n",
    "image_path = '/home/kkay/IIT-H/OCR/ILP-OCR/images/san/sansk.jpg'\n",
    "image = cv2.imread(image_path)\n",
    "\n",
    "gray_image = cv2.cvtColor(image, cv2.COLOR_BGR2GRAY)\n",
    "\n",
    "_, binary_image = cv2.threshold(gray_image, 127, 255, cv2.THRESH_BINARY_INV)\n",
    "\n",
    "contours, _ = cv2.findContours(binary_image, cv2.RETR_EXTERNAL, cv2.CHAIN_APPROX_SIMPLE)\n",
    "\n",
    "for contour in contours:\n",
    "    x, y, w, h = cv2.boundingRect(contour)\n",
    "    if w > 30 and h > 30:\n",
    "        cv2.rectangle(image, (x, y), (x + w, y + h), (0, 255, 0), 2)\n",
    "\n",
    "output_path = 'sanskbbb.png'\n",
    "cv2.imwrite(output_path, image)\n",
    "\n",
    "print(f\"Image saved with bounding boxes as {output_path}\")"
   ]
  },
  {
   "cell_type": "code",
   "execution_count": 9,
   "metadata": {},
   "outputs": [],
   "source": [
    "#normalisation\n",
    "normalized_image = cv2.normalize(resized_image, None, 0, 255, cv2.NORM_MINMAX)\n"
   ]
  },
  {
   "cell_type": "code",
   "execution_count": 10,
   "metadata": {},
   "outputs": [
    {
     "name": "stdout",
     "output_type": "stream",
     "text": [
      "OCR Result:\n",
      "!\n",
      "¦\n",
      "प\n",
      "|]\n",
      "{9\n",
      "शरधाते\n",
      "दः #\n",
      "|\n",
      "थ शं ०] 1077 प्क वी\n",
      "11\n",
      "। थ\n",
      "| ^ ।\n",
      "स व\n",
      "च) 11 0\n",
      "[भण ~\n",
      "(९ ९1१३8 |\n",
      "(। ग\n",
      "॥ ह, भगे नि\n",
      "ग | 1, द\n",
      "॥ शि व\n",
      "॥ म\n",
      "( न ध प.\n",
      "(सि 1 ध\n",
      "| । 1\n",
      "गा ध\n",
      "[र स व\n",
      "- 1 4.\n",
      "1 1 1\n",
      "ध ८\n",
      "1 3 (0\n",
      "[4\n",
      "1 (4\n",
      "व, ८ ः (अ 1: न\n",
      "1\n",
      "(व ए फ व ,\n",
      "ध क १. ध ४ ) म न ल धि\n",
      "॥ [र न ~; स\n",
      "., ॥ हि 4. 2 . शि\n",
      "॥: 2 (द व\n",
      "॥ नि 0. (१ (६ त -\n",
      "1 `. ध ध. ८ ८ न .\n",
      "`` 4 ध (1 द द.\n",
      "ध < ४ < 4 ८2 . .\n",
      "` , न 1\n",
      "` \"४4 वि (42 प ध ।\n",
      "~>“. . \"क्यक्‌ [र ॥ [क 1: ॐ [त ध\n",
      "\f\n"
     ]
    }
   ],
   "source": [
    "#ocr\n",
    "custom_config = r'--psm 6'\n",
    "ocr_result = pytesseract.image_to_string(normalized_image, config=custom_config, lang='san')\n",
    "\n",
    "print(\"OCR Result:\")\n",
    "print(ocr_result)\n"
   ]
  }
 ],
 "metadata": {
  "kernelspec": {
   "display_name": "venv",
   "language": "python",
   "name": "python3"
  },
  "language_info": {
   "codemirror_mode": {
    "name": "ipython",
    "version": 3
   },
   "file_extension": ".py",
   "mimetype": "text/x-python",
   "name": "python",
   "nbconvert_exporter": "python",
   "pygments_lexer": "ipython3",
   "version": "3.10.12"
  }
 },
 "nbformat": 4,
 "nbformat_minor": 2
}
