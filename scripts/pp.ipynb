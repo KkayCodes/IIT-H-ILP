{
 "cells": [
  {
   "cell_type": "code",
   "execution_count": 95,
   "metadata": {},
   "outputs": [],
   "source": [
    "import cv2 \n",
    "import pytesseract\n",
    "import PIL as Image \n",
    "import numpy as np"
   ]
  },
  {
   "cell_type": "code",
   "execution_count": 96,
   "metadata": {},
   "outputs": [],
   "source": [
    "# grayscale and binarisation \n",
    "\n",
    "image_path = '/home/kkay/IIT-H/OCR/ILP-OCR/images/san/book.png'\n",
    "image = cv2.imread(image_path)\n",
    "\n",
    "gray_image = cv2.cvtColor(image, cv2.COLOR_BGR2GRAY)\n",
    "\n",
    "_, binary_image = cv2.threshold(gray_image, 127, 255, cv2.THRESH_BINARY_INV)"
   ]
  },
  {
   "cell_type": "code",
   "execution_count": 97,
   "metadata": {},
   "outputs": [
    {
     "name": "stdout",
     "output_type": "stream",
     "text": [
      "Image saved with bounding boxes as example.png\n"
     ]
    }
   ],
   "source": [
    "#boundary boxes\n",
    "\n",
    "contours, _ = cv2.findContours(binary_image, cv2.RETR_EXTERNAL, cv2.CHAIN_APPROX_SIMPLE)\n",
    "\n",
    "for contour in contours:\n",
    "    x, y, w, h = cv2.boundingRect(contour)\n",
    "    if w >5 and h > 10:\n",
    "        cv2.rectangle(image, (x, y), (x + w, y + h), (0, 255, 0), 2)\n",
    "\n",
    "output_path = 'example.png'\n",
    "cv2.imwrite(output_path, image)\n",
    "\n",
    "print(f\"Image saved with bounding boxes as {output_path}\")"
   ]
  },
  {
   "cell_type": "code",
   "execution_count": 98,
   "metadata": {},
   "outputs": [],
   "source": [
    "def extractText(imagePath):\n",
    "    \n",
    "    custom_config = r'--psm 3'\n",
    "    text = pytesseract.image_to_string(binary_image, lang='san', config=custom_config)\n",
    "    \n",
    "    return text"
   ]
  },
  {
   "cell_type": "code",
   "execution_count": 99,
   "metadata": {},
   "outputs": [],
   "source": [
    "def main():\n",
    "    while True:\n",
    "        imagePath = '/home/kkay/IIT-H/OCR/ILP-OCR/images/san/book.png'\n",
    "        outputFileName = '/home/kkay/IIT-H/OCR/ILP-OCR/book_out.txt'\n",
    "        \n",
    "        try:\n",
    "            extracted_text = extractText(imagePath)\n",
    "        except ValueError as e:\n",
    "            print(e)\n",
    "            continue\n",
    "        \n",
    "        try:\n",
    "            with open(outputFileName, 'w') as file:\n",
    "                file.write(extracted_text)\n",
    "            print(f\"Text successfully written to {outputFileName}.\")\n",
    "        except IOError as e:\n",
    "            print(f\"Error writing to file: {e}\")\n"
   ]
  },
  {
   "cell_type": "code",
   "execution_count": null,
   "metadata": {},
   "outputs": [],
   "source": []
  }
 ],
 "metadata": {
  "kernelspec": {
   "display_name": "venv",
   "language": "python",
   "name": "python3"
  },
  "language_info": {
   "codemirror_mode": {
    "name": "ipython",
    "version": 3
   },
   "file_extension": ".py",
   "mimetype": "text/x-python",
   "name": "python",
   "nbconvert_exporter": "python",
   "pygments_lexer": "ipython3",
   "version": "3.10.12"
  }
 },
 "nbformat": 4,
 "nbformat_minor": 2
}
